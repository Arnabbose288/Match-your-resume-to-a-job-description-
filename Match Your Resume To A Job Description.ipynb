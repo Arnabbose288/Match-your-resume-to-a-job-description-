{
 "cells": [
  {
   "cell_type": "code",
   "execution_count": 3,
   "id": "905c6143",
   "metadata": {},
   "outputs": [
    {
     "name": "stdout",
     "output_type": "stream",
     "text": [
      "Your resume matches about 53.24% of the job description\n"
     ]
    }
   ],
   "source": [
    "import docx2txt\n",
    "\n",
    "resume= docx2txt.process('Resume_py_MT_new.docx')\n",
    "job_description= docx2txt.process('Job_desc_sample.docx')\n",
    "\n",
    "text = [resume,job_description]\n",
    "\n",
    "from sklearn.feature_extraction.text import CountVectorizer\n",
    "cv= CountVectorizer()\n",
    "\n",
    "count_matrix= cv.fit_transform(text)\n",
    "\n",
    "from sklearn.metrics.pairwise import cosine_similarity\n",
    "\n",
    "#print(\"\\nsimilarity Scores:\")\n",
    "#print(cosine_similarity(count_matrix))\n",
    "\n",
    "matchPercentage = cosine_similarity(count_matrix)[0][1] * 100\n",
    "matchPercentage = round(matchPercentage,2)\n",
    "\n",
    "print('Your resume matches about ' +str(matchPercentage)+'% of the job description')"
   ]
  },
  {
   "cell_type": "code",
   "execution_count": 4,
   "id": "3d3c8493",
   "metadata": {},
   "outputs": [
    {
     "name": "stdout",
     "output_type": "stream",
     "text": [
      "CountVectorizer()\n"
     ]
    }
   ],
   "source": []
  },
  {
   "cell_type": "code",
   "execution_count": null,
   "id": "f02e718d",
   "metadata": {},
   "outputs": [],
   "source": []
  }
 ],
 "metadata": {
  "kernelspec": {
   "display_name": "Python 3",
   "language": "python",
   "name": "python3"
  },
  "language_info": {
   "codemirror_mode": {
    "name": "ipython",
    "version": 3
   },
   "file_extension": ".py",
   "mimetype": "text/x-python",
   "name": "python",
   "nbconvert_exporter": "python",
   "pygments_lexer": "ipython3",
   "version": "3.8.8"
  }
 },
 "nbformat": 4,
 "nbformat_minor": 5
}
